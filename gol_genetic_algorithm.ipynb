{
 "cells": [
  {
   "cell_type": "markdown",
   "metadata": {},
   "source": [
    "# Using a genetic algorithm to train an agent in the Game Of Life\n",
    "\n",
    "Types of agent:\n",
    "    - Glider\n",
    "    - \n",
    "    \n",
    "\n",
    "    \n",
    "Method:\n",
    "    - Define a fitness function for agent\n",
    "    - Generate a certain number of dna\n",
    "    - Test the fitness of all the dna\n",
    "    - Pick the best dna from the pool, mutate them\n",
    "    - Repeat until you have a satisfactory agent that can perform the task specified"
   ]
  },
  {
   "cell_type": "code",
   "execution_count": 5,
   "metadata": {},
   "outputs": [],
   "source": [
    "import cv2 as cv\n",
    "import random\n",
    "import numpy as np\n",
    "from dna import *\n",
    "from gol import *"
   ]
  },
  {
   "cell_type": "markdown",
   "metadata": {},
   "source": [
    "Display code"
   ]
  },
  {
   "cell_type": "code",
   "execution_count": 2,
   "metadata": {},
   "outputs": [],
   "source": [
    "def animate_board(gol, frame_rate = 10):\n",
    "    rootWindow = \"  --  GAME OF LIFE!!  --  \"\n",
    "    cv.namedWindow(rootWindow)\n",
    "\n",
    "#     np.random.seed(0)\n",
    "\n",
    "    scale_factor = np.int32(1000 / gol.dim[0])\n",
    "    \n",
    "    \n",
    "    while True:\n",
    "        key = cv.waitKey(np.int32(1000/frame_rate))\n",
    "\n",
    "        img = gol.board.copy()\n",
    "        img = img * 255\n",
    "        img = img.astype(np.uint8)\n",
    "        \n",
    "        for i in range(int(np.log2(scale_factor))):\n",
    "\n",
    "            img = np.repeat(np.repeat(img, 2, axis=0), 2, axis=1)\n",
    "\n",
    "        cv.imshow(rootWindow, img)\n",
    "\n",
    "        if not gol.next_frame() or key == 32:\n",
    "            break\n",
    "    cv.destroyAllWindows()"
   ]
  },
  {
   "cell_type": "code",
   "execution_count": 8,
   "metadata": {},
   "outputs": [],
   "source": [
    "cv.destroyAllWindows()\n"
   ]
  },
  {
   "cell_type": "markdown",
   "metadata": {},
   "source": [
    "Fitness Functioons"
   ]
  },
  {
   "cell_type": "code",
   "execution_count": null,
   "metadata": {},
   "outputs": [],
   "source": [
    "def glider_fitness(agent):\n",
    "    \n",
    "    score = 0\n",
    "    ## Constants\n",
    "    DIM = (50, 50)\n",
    "    STARTING_POS = (10, 10)\n",
    "    \n",
    "    ## Set up the board\n",
    "    gol_board = GOL(DIM)\n",
    "    gol_board.add_agent(STARTING_POS, agent)\n",
    "    \n",
    "    \n",
    "    while \n",
    "    "
   ]
  },
  {
   "cell_type": "markdown",
   "metadata": {},
   "source": [
    "Genetic Algorithm"
   ]
  },
  {
   "cell_type": "code",
   "execution_count": 7,
   "metadata": {},
   "outputs": [
    {
     "ename": "ValueError",
     "evalue": "The truth value of an array with more than one element is ambiguous. Use a.any() or a.all()",
     "output_type": "error",
     "traceback": [
      "\u001b[1;31m---------------------------------------------------------------------------\u001b[0m",
      "\u001b[1;31mValueError\u001b[0m                                Traceback (most recent call last)",
      "\u001b[1;32m~\\AppData\\Local\\Temp\\ipykernel_25416\\42359159.py\u001b[0m in \u001b[0;36m<module>\u001b[1;34m\u001b[0m\n\u001b[0;32m     19\u001b[0m \u001b[0mgol_board\u001b[0m\u001b[1;33m.\u001b[0m\u001b[0mmodify\u001b[0m\u001b[1;33m(\u001b[0m\u001b[1;33m(\u001b[0m\u001b[1;36m5\u001b[0m\u001b[1;33m,\u001b[0m \u001b[1;36m5\u001b[0m\u001b[1;33m)\u001b[0m\u001b[1;33m,\u001b[0m \u001b[0mmat\u001b[0m\u001b[1;33m)\u001b[0m\u001b[1;33m\u001b[0m\u001b[1;33m\u001b[0m\u001b[0m\n\u001b[0;32m     20\u001b[0m \u001b[1;33m\u001b[0m\u001b[0m\n\u001b[1;32m---> 21\u001b[1;33m \u001b[0manimate_board\u001b[0m\u001b[1;33m(\u001b[0m\u001b[0mgol_board\u001b[0m\u001b[1;33m,\u001b[0m \u001b[0mframe_rate\u001b[0m \u001b[1;33m=\u001b[0m \u001b[1;36m30\u001b[0m\u001b[1;33m)\u001b[0m\u001b[1;33m\u001b[0m\u001b[1;33m\u001b[0m\u001b[0m\n\u001b[0m",
      "\u001b[1;32m~\\AppData\\Local\\Temp\\ipykernel_25416\\962058324.py\u001b[0m in \u001b[0;36manimate_board\u001b[1;34m(gol, frame_rate)\u001b[0m\n\u001b[0;32m     21\u001b[0m         \u001b[0mcv\u001b[0m\u001b[1;33m.\u001b[0m\u001b[0mimshow\u001b[0m\u001b[1;33m(\u001b[0m\u001b[0mrootWindow\u001b[0m\u001b[1;33m,\u001b[0m \u001b[0mimg\u001b[0m\u001b[1;33m)\u001b[0m\u001b[1;33m\u001b[0m\u001b[1;33m\u001b[0m\u001b[0m\n\u001b[0;32m     22\u001b[0m \u001b[1;33m\u001b[0m\u001b[0m\n\u001b[1;32m---> 23\u001b[1;33m         \u001b[1;32mif\u001b[0m \u001b[1;32mnot\u001b[0m \u001b[0mgol\u001b[0m\u001b[1;33m.\u001b[0m\u001b[0mnext_frame\u001b[0m\u001b[1;33m(\u001b[0m\u001b[1;33m)\u001b[0m \u001b[1;32mor\u001b[0m \u001b[0mkey\u001b[0m \u001b[1;33m==\u001b[0m \u001b[1;36m32\u001b[0m\u001b[1;33m:\u001b[0m\u001b[1;33m\u001b[0m\u001b[1;33m\u001b[0m\u001b[0m\n\u001b[0m\u001b[0;32m     24\u001b[0m             \u001b[1;32mbreak\u001b[0m\u001b[1;33m\u001b[0m\u001b[1;33m\u001b[0m\u001b[0m\n\u001b[0;32m     25\u001b[0m     \u001b[0mcv\u001b[0m\u001b[1;33m.\u001b[0m\u001b[0mdestroyAllWindows\u001b[0m\u001b[1;33m(\u001b[0m\u001b[1;33m)\u001b[0m\u001b[1;33m\u001b[0m\u001b[1;33m\u001b[0m\u001b[0m\n",
      "\u001b[1;32m~\\Documents\\Distributinve\\gol_ga\\gol.py\u001b[0m in \u001b[0;36mnext_frame\u001b[1;34m(self)\u001b[0m\n\u001b[0;32m     66\u001b[0m         ).astype(int)\n\u001b[0;32m     67\u001b[0m \u001b[1;33m\u001b[0m\u001b[0m\n\u001b[1;32m---> 68\u001b[1;33m         \u001b[0mflag\u001b[0m \u001b[1;33m=\u001b[0m \u001b[0mself\u001b[0m\u001b[1;33m.\u001b[0m\u001b[0mrepeating\u001b[0m\u001b[1;33m(\u001b[0m\u001b[1;33m)\u001b[0m\u001b[1;33m\u001b[0m\u001b[1;33m\u001b[0m\u001b[0m\n\u001b[0m\u001b[0;32m     69\u001b[0m         \u001b[0mself\u001b[0m\u001b[1;33m.\u001b[0m\u001b[0mboard\u001b[0m \u001b[1;33m=\u001b[0m \u001b[0mnew_board\u001b[0m\u001b[1;33m\u001b[0m\u001b[1;33m\u001b[0m\u001b[0m\n\u001b[0;32m     70\u001b[0m         \u001b[0mself\u001b[0m\u001b[1;33m.\u001b[0m\u001b[0mcurr_frame\u001b[0m \u001b[1;33m+=\u001b[0m \u001b[1;36m1\u001b[0m\u001b[1;33m\u001b[0m\u001b[1;33m\u001b[0m\u001b[0m\n",
      "\u001b[1;32m~\\Documents\\Distributinve\\gol_ga\\gol.py\u001b[0m in \u001b[0;36mrepeating\u001b[1;34m(self)\u001b[0m\n\u001b[0;32m     78\u001b[0m \u001b[1;33m\u001b[0m\u001b[0m\n\u001b[0;32m     79\u001b[0m         \u001b[1;32mfor\u001b[0m \u001b[0mframe\u001b[0m \u001b[1;32min\u001b[0m \u001b[0mself\u001b[0m\u001b[1;33m.\u001b[0m\u001b[0mframes\u001b[0m\u001b[1;33m:\u001b[0m\u001b[1;33m\u001b[0m\u001b[1;33m\u001b[0m\u001b[0m\n\u001b[1;32m---> 80\u001b[1;33m             \u001b[1;32mif\u001b[0m \u001b[1;33m(\u001b[0m\u001b[0mframe\u001b[0m \u001b[1;33m==\u001b[0m \u001b[0mself\u001b[0m\u001b[1;33m.\u001b[0m\u001b[0mboard\u001b[0m\u001b[1;33m)\u001b[0m\u001b[1;33m.\u001b[0m\u001b[0mall\u001b[0m\u001b[1;33m(\u001b[0m\u001b[1;33m)\u001b[0m\u001b[1;33m:\u001b[0m\u001b[1;33m\u001b[0m\u001b[1;33m\u001b[0m\u001b[0m\n\u001b[0m\u001b[0;32m     81\u001b[0m                 \u001b[0moutput\u001b[0m \u001b[1;33m=\u001b[0m \u001b[1;32mFalse\u001b[0m\u001b[1;33m\u001b[0m\u001b[1;33m\u001b[0m\u001b[0m\n\u001b[0;32m     82\u001b[0m \u001b[1;33m\u001b[0m\u001b[0m\n",
      "\u001b[1;31mValueError\u001b[0m: The truth value of an array with more than one element is ambiguous. Use a.any() or a.all()"
     ]
    }
   ],
   "source": [
    "board_dimention = (50, 50)\n",
    "\n",
    "scale_factor = 20\n",
    "\n",
    "# Create the game of life baord\n",
    "gol_board = GOL(board_dimention)\n",
    "\n",
    "# Create a random agent\n",
    "agent = DNA((5, 5))\n",
    "# Define the position we would like to place the agent\n",
    "agent_pos = (5, 5)\n",
    "\n",
    "\n",
    "# gol_board.add_agent(agent_pos, agent)\n",
    "\n",
    "mat = np.array([[0, 1, 0], [0, 0, 1], [1, 1, 1]])\n",
    "\n",
    "\n",
    "gol_board.modify((5, 5), mat)\n",
    "\n",
    "animate_board(gol_board, frame_rate = 30)\n"
   ]
  },
  {
   "cell_type": "markdown",
   "metadata": {},
   "source": [
    "Distributive code"
   ]
  },
  {
   "cell_type": "code",
   "execution_count": null,
   "metadata": {},
   "outputs": [],
   "source": [
    "# pip install -q git+https://github.com/Distributive-Network/Bifrost\n",
    "\n",
    "\n",
    "# DCP MODULE\n",
    "from bifrost import dcp\n",
    "\n",
    "##################\n",
    "# INPUT SET\n",
    "##################\n",
    "b_set = range(12)\n",
    "##################\n",
    "# WORK FUNCTION\n",
    "##################\n",
    "\"Compute left Riemann sum of exp(-x^2) from 0 to b with N subintervals.\"\n",
    "def riemann_sum(b,N=100000):\n",
    "\n",
    "  # packages required inside the work function must be imported inside the work function\n",
    "  import numpy as np\n",
    "\n",
    "  x = np.linspace(0,b,N+1)\n",
    "  x_left_endpoints = x[:-1]\n",
    "  Delta_x = b/N\n",
    "  I = Delta_x * np.sum(np.exp(-x_left_endpoints**2))\n",
    "\n",
    "  return I\n",
    "\n",
    "##################\n",
    "# JOB & CONFIG\n",
    "##################\n",
    "job = dcp.compute_for(b_set, riemann_sum)\n",
    "job.requires('numpy')\n",
    "job.compute_groups = [{'joinKey': 'demo', 'joinSecret': 'dcp'}]\n",
    "job.public['name'] = \"Numpy Riemann Sums Job, on DCP!\"\n",
    "\n",
    "##################\n",
    "# EXEC\n",
    "##################\n",
    "results = job.exec()\n",
    "\n",
    "\n",
    "print(results)\n",
    "\n"
   ]
  },
  {
   "cell_type": "code",
   "execution_count": 11,
   "metadata": {},
   "outputs": [
    {
     "name": "stdout",
     "output_type": "stream",
     "text": [
      "(2, 3)\n"
     ]
    }
   ],
   "source": [
    "matrix = np.array([[1, 2, 3], [4, 5, 6]])\n",
    "\n",
    "print(matrix.shape)"
   ]
  }
 ],
 "metadata": {
  "kernelspec": {
   "display_name": "Python 3 (ipykernel)",
   "language": "python",
   "name": "python3"
  },
  "language_info": {
   "codemirror_mode": {
    "name": "ipython",
    "version": 3
   },
   "file_extension": ".py",
   "mimetype": "text/x-python",
   "name": "python",
   "nbconvert_exporter": "python",
   "pygments_lexer": "ipython3",
   "version": "3.9.13"
  },
  "vscode": {
   "interpreter": {
    "hash": "a4d60885009a499ed45cf5b480f270782862228ca024295acddcc9b89cbd4d25"
   }
  }
 },
 "nbformat": 4,
 "nbformat_minor": 2
}
