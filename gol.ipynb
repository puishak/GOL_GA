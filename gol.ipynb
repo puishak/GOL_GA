{
 "cells": [
  {
   "attachments": {},
   "cell_type": "markdown",
   "metadata": {},
   "source": [
    "# Game Of Life"
   ]
  },
  {
   "cell_type": "code",
   "execution_count": 1,
   "metadata": {},
   "outputs": [],
   "source": [
    "import cv2 as cv\n",
    "import numpy as np\n",
    "from dna import *\n",
    "from gol import *\n",
    "from fitness import *\n",
    "from main import *"
   ]
  },
  {
   "cell_type": "code",
   "execution_count": 6,
   "metadata": {},
   "outputs": [],
   "source": [
    "\n",
    "board_dim = (50, 50)\n",
    "agent_dim = (5, 5)\n",
    "starting_pos = (10, 10)\n",
    "# mutation_rate = 0.05\n",
    "max_frames = 5000\n",
    "\n",
    "gol_board = GOL(board_dim)\n",
    "\n",
    "random_agent = DNA(agent_dim, )\n",
    "\n",
    "gol_board.add_agent(starting_pos, random_agent)\n",
    "\n",
    "\n",
    "animate_board(gol_board, frame_rate = 10, text=\"Random\")"
   ]
  },
  {
   "cell_type": "code",
   "execution_count": 9,
   "metadata": {},
   "outputs": [],
   "source": [
    "gol_board = GOL(board_dim)\n",
    "glider_agent = np.array([[0, 1, 0], [0, 0, 1], [1, 1, 1]])\n",
    "gol_board.modify(starting_pos, glider_agent)\n",
    "animate_board(gol_board, frame_rate = 10, text=\"glider agent\")"
   ]
  },
  {
   "cell_type": "code",
   "execution_count": null,
   "metadata": {},
   "outputs": [],
   "source": []
  }
 ],
 "metadata": {
  "kernelspec": {
   "display_name": "Python 3",
   "language": "python",
   "name": "python3"
  },
  "language_info": {
   "codemirror_mode": {
    "name": "ipython",
    "version": 3
   },
   "file_extension": ".py",
   "mimetype": "text/x-python",
   "name": "python",
   "nbconvert_exporter": "python",
   "pygments_lexer": "ipython3",
   "version": "3.9.13"
  },
  "orig_nbformat": 4,
  "vscode": {
   "interpreter": {
    "hash": "a4d60885009a499ed45cf5b480f270782862228ca024295acddcc9b89cbd4d25"
   }
  }
 },
 "nbformat": 4,
 "nbformat_minor": 2
}
