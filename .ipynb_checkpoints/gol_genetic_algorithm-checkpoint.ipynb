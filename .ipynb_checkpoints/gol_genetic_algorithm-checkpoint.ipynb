{
 "cells": [
  {
   "cell_type": "markdown",
   "metadata": {},
   "source": [
    "# Using a genetic algorithm to train an agent in the Game Of Life\n",
    "\n",
    "Types of agent:\n",
    "    - Glider\n",
    "    - \n",
    "    \n",
    "\n",
    "    \n",
    "Method:\n",
    "    - Define a fitness function for agent\n",
    "    - Generate a certain number of dna\n",
    "    - Test the fitness of all the dna\n",
    "    - Pick the best dna from the pool, mutate them\n",
    "    - Repeat until you have a satisfactory agent that can perform the task specified"
   ]
  },
  {
   "cell_type": "code",
   "execution_count": 4,
   "metadata": {},
   "outputs": [],
   "source": [
    "import cv2 as cv\n",
    "import random\n",
    "import numpy as np\n",
    "from dna import *\n",
    "from gol import *\n",
    "from fitness import *\n",
    "from main import *"
   ]
  },
  {
   "cell_type": "markdown",
   "metadata": {},
   "source": [
    "## Training an agent to explode"
   ]
  },
  {
   "cell_type": "code",
   "execution_count": 5,
   "metadata": {},
   "outputs": [
    {
     "name": "stdout",
     "output_type": "stream",
     "text": [
      "Generation:  0\n",
      "Best score:  97.77026850151374\n",
      "Generation:  1\n",
      "Best score:  97.36211686015895\n",
      "Generation:  2\n",
      "Best score:  82.54579101108834\n",
      "Generation:  3\n",
      "Best score:  97.0132465513041\n",
      "Generation:  4\n",
      "Best score:  97.36211686015895\n",
      "Generation:  5\n",
      "Best score:  97.0132465513041\n",
      "Generation:  6\n",
      "Best score:  81.0799857025486\n",
      "Generation:  7\n",
      "Best score:  52.980155610552686\n",
      "Generation:  8\n",
      "Best score:  103.0234819771833\n",
      "Generation:  9\n",
      "Best score:  76.30334759218677\n"
     ]
    }
   ],
   "source": [
    "board_dim = (50, 50)\n",
    "agent_dim = (4, 4)\n",
    "starting_pos = (23, 23)\n",
    "mutation_rate = 0.1\n",
    "\n",
    "best_of_each_gen = []\n",
    "num_generation = 10\n",
    "\n",
    "# Create the population\n",
    "num_agents = 500\n",
    "# population: [(agent:DNA, score:int)]\n",
    "population = {}\n",
    "# Create the initial population\n",
    "for i in range(num_agents):\n",
    "    agent = DNA(agent_dim)\n",
    "    score = 0\n",
    "    population[agent] = score\n",
    "\n",
    "for i in range(num_generation):\n",
    "    print(\"Generation: \", i)\n",
    "    best_agent = (None, 0)    \n",
    "\n",
    "    # Score the population\n",
    "    ## Hook this up to the distributive end\n",
    "    for agent in population.keys():\n",
    "        score = explosion_fitness(agent, board_dim=board_dim, starting_pos=starting_pos)\n",
    "        population[agent] = score\n",
    "        if score > best_agent[1]:\n",
    "            best_agent = (agent, score)\n",
    "    ## Distributive end\n",
    "\n",
    "    best_of_each_gen.append(best_agent[0])\n",
    "    print(\"Best score: \", best_agent[1])\n",
    "\n",
    "    # print(population)\n",
    "\n",
    "    population = next_generation(population, mutation_rate=mutation_rate)\n",
    "\n"
   ]
  },
  {
   "cell_type": "markdown",
   "metadata": {},
   "source": [
    "## Training an agent to run for a long period of time"
   ]
  },
  {
   "cell_type": "code",
   "execution_count": 5,
   "metadata": {},
   "outputs": [
    {
     "name": "stdout",
     "output_type": "stream",
     "text": [
      "Generation:  0\n",
      "Best score:  97.77026850151374\n",
      "Generation:  1\n",
      "Best score:  97.36211686015895\n",
      "Generation:  2\n",
      "Best score:  82.54579101108834\n",
      "Generation:  3\n",
      "Best score:  97.0132465513041\n",
      "Generation:  4\n",
      "Best score:  97.36211686015895\n",
      "Generation:  5\n",
      "Best score:  97.0132465513041\n",
      "Generation:  6\n",
      "Best score:  81.0799857025486\n",
      "Generation:  7\n",
      "Best score:  52.980155610552686\n",
      "Generation:  8\n",
      "Best score:  103.0234819771833\n",
      "Generation:  9\n",
      "Best score:  76.30334759218677\n"
     ]
    }
   ],
   "source": [
    "board_dim = (50, 50)\n",
    "agent_dim = (4, 4)\n",
    "starting_pos = (23, 23)\n",
    "mutation_rate = 0.1\n",
    "\n",
    "best_of_each_gen = []\n",
    "num_generation = 10\n",
    "\n",
    "# Create the population\n",
    "num_agents = 500\n",
    "# population: [(agent:DNA, score:int)]\n",
    "population = {}\n",
    "# Create the initial population\n",
    "for i in range(num_agents):\n",
    "    agent = DNA(agent_dim)\n",
    "    score = 0\n",
    "    population[agent] = score\n",
    "\n",
    "for i in range(num_generation):\n",
    "    print(\"Generation: \", i)\n",
    "    best_agent = (None, 0)    \n",
    "\n",
    "    # Score the population\n",
    "    ## Hook this up to the distributive end\n",
    "    for agent in population.keys():\n",
    "        score = duration_fitness(agent, board_dim=board_dim, starting_pos=starting_pos)\n",
    "        population[agent] = score\n",
    "        if score > best_agent[1]:\n",
    "            best_agent = (agent, score)\n",
    "    ## Distributive end\n",
    "\n",
    "    best_of_each_gen.append(best_agent[0])\n",
    "    print(\"Best score: \", best_agent[1])\n",
    "\n",
    "    # print(population)\n",
    "\n",
    "    population = next_generation(population, mutation_rate=mutation_rate)\n",
    "\n"
   ]
  },
  {
   "cell_type": "markdown",
   "metadata": {},
   "source": [
    "Distributive code"
   ]
  },
  {
   "cell_type": "code",
   "execution_count": 6,
   "metadata": {},
   "outputs": [],
   "source": [
    "gen = 1\n",
    "    \n",
    "for agent in best_of_each_gen:\n",
    "\n",
    "    # Create the game of life baord \n",
    "    gol_board = GOL(board_dim)\n",
    "\n",
    "    # Create a random agent\n",
    "    # Define the position we would like to place the agent\n",
    "    gol_board.add_agent(starting_pos, agent)\n",
    "\n",
    "    animate_board(gol_board, frame_rate = 10, text=\"gen: \" + str(gen))\n",
    "    gen += 1"
   ]
  },
  {
   "cell_type": "code",
   "execution_count": null,
   "metadata": {},
   "outputs": [],
   "source": [
    "# pip install -q git+https://github.com/Distributive-Network/Bifrost\n",
    "\n",
    "\n",
    "# DCP MODULE\n",
    "from bifrost import dcp\n",
    "\n",
    "##################\n",
    "# INPUT SET\n",
    "##################\n",
    "b_set = range(12)\n",
    "##################\n",
    "# WORK FUNCTION\n",
    "##################\n",
    "\"Compute left Riemann sum of exp(-x^2) from 0 to b with N subintervals.\"\n",
    "def riemann_sum(b,N=100000):\n",
    "\n",
    "  # packages required inside the work function must be imported inside the work function\n",
    "  import numpy as np\n",
    "\n",
    "  x = np.linspace(0,b,N+1)\n",
    "  x_left_endpoints = x[:-1]\n",
    "  Delta_x = b/N\n",
    "  I = Delta_x * np.sum(np.exp(-x_left_endpoints**2))\n",
    "\n",
    "  return I\n",
    "\n",
    "##################\n",
    "# JOB & CONFIG\n",
    "##################\n",
    "job = dcp.compute_for(b_set, riemann_sum)\n",
    "job.requires('numpy')\n",
    "job.compute_groups = [{'joinKey': 'demo', 'joinSecret': 'dcp'}]\n",
    "job.public['name'] = \"Numpy Riemann Sums Job, on DCP!\"\n",
    "\n",
    "##################\n",
    "# EXEC\n",
    "##################\n",
    "results = job.exec()\n",
    "\n",
    "\n",
    "print(results)\n",
    "\n"
   ]
  },
  {
   "cell_type": "code",
   "execution_count": 8,
   "metadata": {},
   "outputs": [],
   "source": [
    "cv.destroyAllWindows()\n"
   ]
  }
 ],
 "metadata": {
  "kernelspec": {
   "display_name": "Python 3 (ipykernel)",
   "language": "python",
   "name": "python3"
  },
  "language_info": {
   "codemirror_mode": {
    "name": "ipython",
    "version": 3
   },
   "file_extension": ".py",
   "mimetype": "text/x-python",
   "name": "python",
   "nbconvert_exporter": "python",
   "pygments_lexer": "ipython3",
   "version": "3.9.13"
  },
  "vscode": {
   "interpreter": {
    "hash": "a4d60885009a499ed45cf5b480f270782862228ca024295acddcc9b89cbd4d25"
   }
  }
 },
 "nbformat": 4,
 "nbformat_minor": 2
}
