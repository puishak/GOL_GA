{
 "cells": [
  {
   "cell_type": "markdown",
   "metadata": {},
   "source": [
    "# Using a genetic algorithm to train an agent in the Game Of Life\n",
    "\n",
    "Types of agent:\n",
    "    - Glider\n",
    "    - \n",
    "    \n",
    "\n",
    "    \n",
    "Method:\n",
    "    - Define a fitness function for agent\n",
    "    - Generate a certain number of dna\n",
    "    - Test the fitness of all the dna\n",
    "    - Pick the best dna from the pool, mutate them\n",
    "    - Repeat until you have a satisfactory agent that can perform the task specified"
   ]
  },
  {
   "cell_type": "code",
   "execution_count": 4,
   "metadata": {},
   "outputs": [],
   "source": [
    "import cv2 as cv\n",
    "import random\n",
    "import numpy as np\n",
    "from dna import *\n",
    "from gol import *\n",
    " \n",
    "\n",
    "board_dimention = (20, 20)\n",
    "\n",
    "\n",
    "scale_factor = 20"
   ]
  },
  {
   "cell_type": "markdown",
   "metadata": {},
   "source": [
    "Display code"
   ]
  },
  {
   "cell_type": "code",
   "execution_count": 5,
   "metadata": {},
   "outputs": [],
   "source": [
    "\n",
    "\n",
    "def animate_board(gol):\n",
    "# cap = cv.VideoCapture(0)\n",
    "\n",
    "    rootWindow = \"  --  GAME OF LIFE!!  --  \"\n",
    "\n",
    "    cv.namedWindow(rootWindow)\n",
    "\n",
    "    np.random.seed(0)\n",
    "\n",
    "    scale_factor = 5\n",
    "    \n",
    "    while True:\n",
    "\n",
    "        # success, img = cap.read()\n",
    "\n",
    "        key = cv.waitKey(100)\n",
    "\n",
    "        img = gol.board.copy()\n",
    "\n",
    "        img = img * 255\n",
    "\n",
    "\n",
    "        for i in range(int(np.log2(scale_factor))):\n",
    "\n",
    "            img = np.repeat(np.repeat(img, 2, axis=0), 2, axis=1)\n",
    "\n",
    "        # cap.release()\n",
    "\n",
    "\n",
    "        # img = cv.flip(img, 1)\n",
    "\n",
    "        # img = cv.resize(img, (800, 800))\n",
    "\n",
    "        cv.imshow(rootWindow, img)\n",
    "\n",
    "        if not gol.next_frame() or key == 32:\n",
    "            break\n",
    "        \n",
    "\n",
    "\n",
    "    # cv.waitKey(0)\n",
    "\n",
    "    cv.destroyAllWindows()\n",
    "\n",
    "\n",
    "\n"
   ]
  },
  {
   "cell_type": "code",
   "execution_count": 6,
   "metadata": {},
   "outputs": [],
   "source": [
    "# Create the game of life baord\n",
    "gol_board = GOL(board_dimention)\n",
    "\n",
    "# Create a random agent\n",
    "agent = DNA((5, 5))\n",
    "# Define the position we would like to place the agent\n",
    "agent_pos = (5, 5)\n",
    "\n",
    "\n",
    "gol_board.add_agent(agent_pos, agent)\n",
    "\n",
    "#animate_board(gol_board)\n"
   ]
  },
  {
   "cell_type": "code",
   "execution_count": 7,
   "metadata": {},
   "outputs": [],
   "source": [
    "cv.destroyAllWindows()\n"
   ]
  },
  {
   "cell_type": "markdown",
   "metadata": {},
   "source": [
    "Distributive code"
   ]
  },
  {
   "cell_type": "code",
   "execution_count": 10,
   "metadata": {},
   "outputs": [
    {
     "name": "stdout",
     "output_type": "stream",
     "text": [
      "[[0. 0. 0. 0. 0. 0. 0. 0. 0. 0. 0. 0. 0. 0. 0. 0. 0. 0. 0. 0.]\n",
      " [0. 0. 0. 0. 0. 0. 0. 0. 0. 0. 0. 0. 0. 0. 0. 0. 0. 0. 0. 0.]\n",
      " [0. 0. 0. 0. 0. 0. 0. 0. 0. 0. 0. 0. 0. 0. 0. 0. 0. 0. 0. 0.]\n",
      " [0. 0. 0. 0. 0. 0. 0. 0. 0. 0. 0. 0. 0. 0. 0. 0. 0. 0. 0. 0.]\n",
      " [0. 0. 0. 0. 0. 0. 0. 0. 0. 0. 0. 0. 0. 0. 0. 0. 0. 0. 0. 0.]\n",
      " [0. 0. 0. 0. 0. 1. 1. 1. 0. 1. 0. 0. 0. 0. 0. 0. 0. 0. 0. 0.]\n",
      " [0. 0. 0. 0. 0. 0. 0. 0. 0. 1. 0. 0. 0. 0. 0. 0. 0. 0. 0. 0.]\n",
      " [0. 0. 0. 0. 0. 0. 0. 1. 1. 0. 0. 0. 0. 0. 0. 0. 0. 0. 0. 0.]\n",
      " [0. 0. 0. 0. 0. 0. 1. 0. 0. 1. 0. 0. 0. 0. 0. 0. 0. 0. 0. 0.]\n",
      " [0. 0. 0. 0. 0. 0. 1. 0. 0. 0. 0. 0. 0. 0. 0. 0. 0. 0. 0. 0.]\n",
      " [0. 0. 0. 0. 0. 0. 0. 0. 0. 0. 0. 0. 0. 0. 0. 0. 0. 0. 0. 0.]\n",
      " [0. 0. 0. 0. 0. 0. 0. 0. 0. 0. 0. 0. 0. 0. 0. 0. 0. 0. 0. 0.]\n",
      " [0. 0. 0. 0. 0. 0. 0. 0. 0. 0. 0. 0. 0. 0. 0. 0. 0. 0. 0. 0.]\n",
      " [0. 0. 0. 0. 0. 0. 0. 0. 0. 0. 0. 0. 0. 0. 0. 0. 0. 0. 0. 0.]\n",
      " [0. 0. 0. 0. 0. 0. 0. 0. 0. 0. 0. 0. 0. 0. 0. 0. 0. 0. 0. 0.]\n",
      " [0. 0. 0. 0. 0. 0. 0. 0. 0. 0. 0. 0. 0. 0. 0. 0. 0. 0. 0. 0.]\n",
      " [0. 0. 0. 0. 0. 0. 0. 0. 0. 0. 0. 0. 0. 0. 0. 0. 0. 0. 0. 0.]\n",
      " [0. 0. 0. 0. 0. 0. 0. 0. 0. 0. 0. 0. 0. 0. 0. 0. 0. 0. 0. 0.]\n",
      " [0. 0. 0. 0. 0. 0. 0. 0. 0. 0. 0. 0. 0. 0. 0. 0. 0. 0. 0. 0.]\n",
      " [0. 0. 0. 0. 0. 0. 0. 0. 0. 0. 0. 0. 0. 0. 0. 0. 0. 0. 0. 0.]]\n"
     ]
    }
   ],
   "source": [
    "print(gol_board.board)\n"
   ]
  },
  {
   "cell_type": "code",
   "execution_count": null,
   "metadata": {},
   "outputs": [],
   "source": [
    "# pip install -q git+https://github.com/Distributive-Network/Bifrost\n",
    "\n",
    "\n",
    "# DCP MODULE\n",
    "from bifrost import dcp\n",
    "\n",
    "##################\n",
    "# INPUT SET\n",
    "##################\n",
    "b_set = range(12)\n",
    "##################\n",
    "# WORK FUNCTION\n",
    "##################\n",
    "\"Compute left Riemann sum of exp(-x^2) from 0 to b with N subintervals.\"\n",
    "def riemann_sum(b,N=100000):\n",
    "\n",
    "  # packages required inside the work function must be imported inside the work function\n",
    "  import numpy as np\n",
    "\n",
    "  x = np.linspace(0,b,N+1)\n",
    "  x_left_endpoints = x[:-1]\n",
    "  Delta_x = b/N\n",
    "  I = Delta_x * np.sum(np.exp(-x_left_endpoints**2))\n",
    "\n",
    "  return I\n",
    "\n",
    "##################\n",
    "# JOB & CONFIG\n",
    "##################\n",
    "job = dcp.compute_for(b_set, riemann_sum)\n",
    "job.requires('numpy')\n",
    "job.compute_groups = [{'joinKey': 'demo', 'joinSecret': 'dcp'}]\n",
    "job.public['name'] = \"Numpy Riemann Sums Job, on DCP!\"\n",
    "\n",
    "##################\n",
    "# EXEC\n",
    "##################\n",
    "results = job.exec()\n",
    "\n",
    "\n",
    "print(results)\n",
    "\n"
   ]
  },
  {
   "cell_type": "code",
   "execution_count": 10,
   "metadata": {},
   "outputs": [
    {
     "name": "stdout",
     "output_type": "stream",
     "text": [
      "Original Matrix:\n",
      "[[0. 0. 0. 0. 0. 0.]\n",
      " [0. 0. 0. 0. 0. 0.]\n",
      " [0. 0. 0. 0. 0. 0.]\n",
      " [0. 0. 0. 0. 0. 0.]\n",
      " [0. 0. 0. 0. 0. 0.]]\n",
      "New Matrix:\n",
      "[[1. 1.]\n",
      " [1. 1.]]\n",
      "Modified Matrix:\n",
      "[[0. 0. 0. 0. 0. 0.]\n",
      " [0. 0. 0. 0. 0. 0.]\n",
      " [0. 0. 0. 0. 0. 0.]\n",
      " [0. 0. 0. 0. 1. 1.]\n",
      " [0. 0. 0. 0. 1. 1.]]\n"
     ]
    }
   ],
   "source": [
    "import numpy as np\n",
    "\n",
    "# create a 4x4 matrix\n",
    "matrix = np.zeros((5, 6))\n",
    "print(\"Original Matrix:\")\n",
    "print(matrix)\n",
    "\n",
    "# create a 2x2 smaller matrix to replace a part of the original matrix\n",
    "new_matrix = np.ones((2, 2))\n",
    "print(\"New Matrix:\")\n",
    "print(new_matrix)\n",
    "\n",
    "pos = (3, 4)\n",
    "\n",
    "# specify the position of the new matrix\n",
    "start_row = pos[0]\n",
    "end_row = start_row + new_matrix.shape[0]\n",
    "start_col = pos[1]\n",
    "end_col = start_col + new_matrix.shape[1]\n",
    "\n",
    "if start_row >= 0 and start_col >= 0 and end_row <= matrix.shape[0] and end_col <= matrix.shape[1]:\n",
    "    # replace the specified part of the original matrix with the new matrix\n",
    "    matrix[start_row:end_row, start_col:end_col] = new_matrix\n",
    "    print(\"Modified Matrix:\")\n",
    "    print(matrix)\n",
    "else:\n",
    "    print(\"error\")\n",
    "\n"
   ]
  }
 ],
 "metadata": {
  "kernelspec": {
   "display_name": "Python 3 (ipykernel)",
   "language": "python",
   "name": "python3"
  },
  "language_info": {
   "codemirror_mode": {
    "name": "ipython",
    "version": 3
   },
   "file_extension": ".py",
   "mimetype": "text/x-python",
   "name": "python",
   "nbconvert_exporter": "python",
   "pygments_lexer": "ipython3",
   "version": "3.9.13"
  },
  "vscode": {
   "interpreter": {
    "hash": "a4d60885009a499ed45cf5b480f270782862228ca024295acddcc9b89cbd4d25"
   }
  }
 },
 "nbformat": 4,
 "nbformat_minor": 2
}
